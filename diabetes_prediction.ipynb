{
 "cells": [
  {
   "cell_type": "code",
   "execution_count": 1,
   "id": "043ca0ae-d5a1-4ddf-ad6d-c4a79fbff516",
   "metadata": {},
   "outputs": [],
   "source": [
    "import pandas as pd\n",
    "import numpy as np\n",
    "import os\n",
    "import glob\n",
    "import matplotlib.pyplot as plt\n",
    "from matplotlib import pyplot as plt\n",
    "from sklearn.model_selection import train_test_split\n",
    "from sklearn.linear_model import LogisticRegression\n",
    "from sklearn import svm\n",
    "from sklearn.preprocessing import LabelEncoder\n",
    "from sklearn.feature_selection import RFE\n",
    "from sklearn.model_selection import GridSearchCV\n",
    "from sklearn.metrics import brier_score_loss\n",
    "from sklearn.preprocessing import StandardScaler\n",
    "from sklearn.svm import SVC\n",
    "from sklearn.model_selection import cross_val_score\n",
    "from sklearn.metrics import accuracy_score"
   ]
  },
  {
   "cell_type": "code",
   "execution_count": 2,
   "id": "d69b1564-40fc-47c6-aa5a-00abeb5033e2",
   "metadata": {},
   "outputs": [
    {
     "data": {
      "text/plain": [
       "['training_syncmedication',\n",
       " 'synccondition',\n",
       " 'training_syncpatient',\n",
       " 'training_syncdiagnosis',\n",
       " 'training_syncpatientsmokingstatus',\n",
       " 'test_syncpatient',\n",
       " 'training_syncpatient_orig',\n",
       " 'training_syncallergy',\n",
       " 'training_syncprescription',\n",
       " 'training_synclabobservation',\n",
       " 'training_synctranscript',\n",
       " 'training_syncpatientcondition',\n",
       " 'training_syncimmunization',\n",
       " 'syncsmokingstatus',\n",
       " 'training_synctranscriptmedication',\n",
       " 'training_synclabresult',\n",
       " 'training_synclabpanel',\n",
       " 'training_synctranscriptallergy',\n",
       " 'training_synctranscriptdiagnosis']"
      ]
     },
     "execution_count": 2,
     "metadata": {},
     "output_type": "execute_result"
    }
   ],
   "source": [
    "# Create dfs for all relevant files\n",
    "folder_path = '/users/connormulshine/Dropbox/UChicago/DS in Healthcare/datasetPracticeFusionDiabetes'\n",
    "\n",
    "# List all csv files in the directory\n",
    "filenames = os.listdir(folder_path)\n",
    "\n",
    "# Remove '.csv' from the name of each file\n",
    "def extract_name_files(text):\n",
    "    name_file = text.replace('.csv', '').lower()\n",
    "    return name_file\n",
    "\n",
    "# Create a list that will be used to name dataframes\n",
    "names_of_files = list(map(extract_name_files,filenames))\n",
    "\n",
    "# Save each csv in a df\n",
    "for i in range(0,len(names_of_files)):\n",
    "    exec(names_of_files[i] + \" =  pd.read_csv(folder_path+'/'+filenames[i])\")\n",
    "    \n",
    "# List all dfs\n",
    "names_of_files"
   ]
  },
  {
   "cell_type": "code",
   "execution_count": 3,
   "id": "42cd7183-dacb-4ba0-9c05-c562daef2234",
   "metadata": {
    "tags": []
   },
   "outputs": [
    {
     "data": {
      "text/plain": [
       "9871"
      ]
     },
     "execution_count": 3,
     "metadata": {},
     "output_type": "execute_result"
    }
   ],
   "source": [
    "# The df appears to be picking up a lot of blank records at the bottom\n",
    "len(training_syncpatient)"
   ]
  },
  {
   "cell_type": "code",
   "execution_count": 4,
   "id": "22b1f8c0-1563-4f58-8609-6db74857e354",
   "metadata": {},
   "outputs": [
    {
     "data": {
      "text/plain": [
       "6600"
      ]
     },
     "execution_count": 4,
     "metadata": {},
     "output_type": "execute_result"
    }
   ],
   "source": [
    "# To fix, delete all records for which there is no patient ID\n",
    "training_syncpatient = training_syncpatient.dropna(subset=['PatientGuid'])\n",
    "len(training_syncpatient)"
   ]
  },
  {
   "cell_type": "markdown",
   "id": "1d2a66f3-488c-4b2a-a825-22f76685fd41",
   "metadata": {
    "tags": []
   },
   "source": [
    "### PATIENT ('training_syncpatient')\n",
    "##### Clean up central patient database"
   ]
  },
  {
   "cell_type": "code",
   "execution_count": 5,
   "id": "c96812d2-c9f1-4bf8-b49d-b2b475170c34",
   "metadata": {},
   "outputs": [
    {
     "data": {
      "text/html": [
       "<div>\n",
       "<style scoped>\n",
       "    .dataframe tbody tr th:only-of-type {\n",
       "        vertical-align: middle;\n",
       "    }\n",
       "\n",
       "    .dataframe tbody tr th {\n",
       "        vertical-align: top;\n",
       "    }\n",
       "\n",
       "    .dataframe thead th {\n",
       "        text-align: right;\n",
       "    }\n",
       "</style>\n",
       "<table border=\"1\" class=\"dataframe\">\n",
       "  <thead>\n",
       "    <tr style=\"text-align: right;\">\n",
       "      <th></th>\n",
       "      <th>PatientGuid</th>\n",
       "      <th>DMIndicator</th>\n",
       "      <th>Gender</th>\n",
       "      <th>YearOfBirth</th>\n",
       "      <th>State</th>\n",
       "      <th>PracticeGuid</th>\n",
       "    </tr>\n",
       "  </thead>\n",
       "  <tbody>\n",
       "    <tr>\n",
       "      <th>0</th>\n",
       "      <td>FB6EFC3D-1A20-4497-9CBD-00027CC5D220</td>\n",
       "      <td>0.0</td>\n",
       "      <td>M</td>\n",
       "      <td>1929.0</td>\n",
       "      <td>SD</td>\n",
       "      <td>7BF4DAD8-5F67-4985-B911-20C9E89A3737</td>\n",
       "    </tr>\n",
       "    <tr>\n",
       "      <th>1</th>\n",
       "      <td>C6746626-6783-4650-A58F-00065649139A</td>\n",
       "      <td>0.0</td>\n",
       "      <td>F</td>\n",
       "      <td>1985.0</td>\n",
       "      <td>TX</td>\n",
       "      <td>E7101967-2FF1-4B0F-8129-B0B429D1D15C</td>\n",
       "    </tr>\n",
       "    <tr>\n",
       "      <th>2</th>\n",
       "      <td>E05C6E8F-779F-4594-A388-000C635AE4D3</td>\n",
       "      <td>0.0</td>\n",
       "      <td>F</td>\n",
       "      <td>1984.0</td>\n",
       "      <td>NJ</td>\n",
       "      <td>FC01A799-1CAF-464F-A86F-8A666AB86F32</td>\n",
       "    </tr>\n",
       "    <tr>\n",
       "      <th>3</th>\n",
       "      <td>EAEBD216-F847-4355-87B2-000D942E08F0</td>\n",
       "      <td>0.0</td>\n",
       "      <td>M</td>\n",
       "      <td>1959.0</td>\n",
       "      <td>OH</td>\n",
       "      <td>EEBC95EF-79BE-4542-892E-98D3166BAB20</td>\n",
       "    </tr>\n",
       "    <tr>\n",
       "      <th>4</th>\n",
       "      <td>C7F10A80-4934-42D2-8540-000FBEBA75C8</td>\n",
       "      <td>0.0</td>\n",
       "      <td>F</td>\n",
       "      <td>1990.0</td>\n",
       "      <td>FL</td>\n",
       "      <td>677BA32E-B4C4-48F2-86E4-08C42B135401</td>\n",
       "    </tr>\n",
       "  </tbody>\n",
       "</table>\n",
       "</div>"
      ],
      "text/plain": [
       "                            PatientGuid  DMIndicator Gender  YearOfBirth  \\\n",
       "0  FB6EFC3D-1A20-4497-9CBD-00027CC5D220          0.0      M       1929.0   \n",
       "1  C6746626-6783-4650-A58F-00065649139A          0.0      F       1985.0   \n",
       "2  E05C6E8F-779F-4594-A388-000C635AE4D3          0.0      F       1984.0   \n",
       "3  EAEBD216-F847-4355-87B2-000D942E08F0          0.0      M       1959.0   \n",
       "4  C7F10A80-4934-42D2-8540-000FBEBA75C8          0.0      F       1990.0   \n",
       "\n",
       "  State                          PracticeGuid  \n",
       "0    SD  7BF4DAD8-5F67-4985-B911-20C9E89A3737  \n",
       "1    TX  E7101967-2FF1-4B0F-8129-B0B429D1D15C  \n",
       "2    NJ  FC01A799-1CAF-464F-A86F-8A666AB86F32  \n",
       "3    OH  EEBC95EF-79BE-4542-892E-98D3166BAB20  \n",
       "4    FL  677BA32E-B4C4-48F2-86E4-08C42B135401  "
      ]
     },
     "execution_count": 5,
     "metadata": {},
     "output_type": "execute_result"
    }
   ],
   "source": [
    "training_syncpatient.head()"
   ]
  },
  {
   "cell_type": "code",
   "execution_count": 6,
   "id": "74cd1e16-cf35-42aa-bc10-89cb4d2f3335",
   "metadata": {
    "tags": []
   },
   "outputs": [],
   "source": [
    "# Drop columns that aren't needed\n",
    "training_syncpatient = training_syncpatient.drop('State', axis=1)\n",
    "training_syncpatient = training_syncpatient.drop('PracticeGuid', axis=1)\n",
    "\n",
    "# Encode gedner\n",
    "training_syncpatient['Gender'] = training_syncpatient['Gender'].map({'M': 1, 'F': 0})"
   ]
  },
  {
   "cell_type": "markdown",
   "id": "d9b879b7-77eb-4ea2-b0e2-4278990d0c94",
   "metadata": {
    "tags": []
   },
   "source": [
    "### ALLERGIES ('training_syncallergy')\n",
    "##### Flag if patient has any type of allergy"
   ]
  },
  {
   "cell_type": "code",
   "execution_count": 7,
   "id": "5b418f36-ed73-476a-a52a-b9b76cd5f8aa",
   "metadata": {},
   "outputs": [
    {
     "data": {
      "text/plain": [
       "0    5464\n",
       "1    1136\n",
       "Name: any_allergy, dtype: int64"
      ]
     },
     "execution_count": 7,
     "metadata": {},
     "output_type": "execute_result"
    }
   ],
   "source": [
    "# Create a dummy variable in patient df based on whether the patient has at least one allergy\n",
    "training_syncpatient['any_allergy'] = training_syncpatient['PatientGuid'].isin(training_syncallergy['PatientGuid']).astype(int)\n",
    "training_syncpatient['any_allergy'].value_counts()"
   ]
  },
  {
   "cell_type": "markdown",
   "id": "a5bba7f0-ef59-4a72-a1fe-3b20c35620dd",
   "metadata": {
    "tags": []
   },
   "source": [
    "### CONDITIONS ('training_syncpatientcondition')\n",
    "##### Flag if patient has any type of condition"
   ]
  },
  {
   "cell_type": "code",
   "execution_count": 8,
   "id": "1eac8267-a7d8-4334-92ba-1ffdb43d1d9b",
   "metadata": {},
   "outputs": [
    {
     "data": {
      "text/plain": [
       "0    4727\n",
       "1    1873\n",
       "Name: any_condition, dtype: int64"
      ]
     },
     "execution_count": 8,
     "metadata": {},
     "output_type": "execute_result"
    }
   ],
   "source": [
    "# Create a dummy variable in patient df based on whether the patient has at least one condition\n",
    "training_syncpatient['any_condition'] = training_syncpatient['PatientGuid'].isin(training_syncpatientcondition['PatientGuid']).astype(int)\n",
    "training_syncpatient['any_condition'].value_counts()"
   ]
  },
  {
   "cell_type": "markdown",
   "id": "3a1eddc7-617e-415e-8c12-21d73cdc6cae",
   "metadata": {
    "tags": []
   },
   "source": [
    "### SMOKING ('training_syncpatientsmokingstatus')\n",
    "##### Flag if patient is a non-smoker, light smoker, or heavy smoker"
   ]
  },
  {
   "cell_type": "code",
   "execution_count": null,
   "id": "8a7210d0-5e0b-446f-ada4-2076f19ebc14",
   "metadata": {},
   "outputs": [],
   "source": []
  },
  {
   "cell_type": "code",
   "execution_count": 9,
   "id": "0e57829e-e240-4e33-ac78-3bedc5a7aec3",
   "metadata": {
    "tags": []
   },
   "outputs": [],
   "source": [
    "# Move 'Description' column into the 'training_syncpatientsmokingstatus' df\n",
    "training_syncpatientsmokingstatus = training_syncpatientsmokingstatus.merge(syncsmokingstatus, on='SmokingStatusGuid', how='left')\n",
    "\n",
    "# Map descriptions of smoking status. 0 = non-smoker, 1 = light smoker, 2 = heavy smoker.\n",
    "# Not going to map 'Current status unknown', as we'll get a '0' across all categories (same as N/A)\n",
    "smoker_flags = {\n",
    "    \"Not a current tobacco user\": 0,\n",
    "    \"0 cigarettes per day (previous smoker)\": 1,\n",
    "    \"Few (1-3) cigarettes per day\": 1, \n",
    "    \"2 or more packs per day\": 2,\n",
    "    \"Up to 1 pack per day\": 1, \n",
    "    \"1-2 packs per day\": 2, \n",
    "    \"Current Tobacco user\": 1,\n",
    "    \"0 cigarettes per day (non-smoker or less than 100 in lifetime)\": 0,\n",
    "    \"Current status unknown\": np.nan}\n",
    "\n",
    "training_syncpatientsmokingstatus['smoker'] = training_syncpatientsmokingstatus['Description'].replace(smoker_flags)\n",
    "training_syncpatientsmokingstatus_encoded = pd.get_dummies(training_syncpatientsmokingstatus['smoker'],\n",
    "                                                          prefix='smoker')\n",
    "\n",
    "# Rename columns\n",
    "training_syncpatientsmokingstatus_encoded.rename(columns={'smoker_0.0': 'non_smoker', \n",
    "                                                          'smoker_1.0': 'light_smoker', \n",
    "                                                          'smoker_2.0': 'heavy_smoker'}, inplace=True)\n",
    "\n",
    "# Isolate patient_id\n",
    "patient_id_smoking = training_syncpatientsmokingstatus['PatientGuid']\n",
    "\n",
    "# Create a new df, which includes patient_id and smoker flag columns\n",
    "training_syncpatientsmokingstatus_final = pd.concat([patient_id_smoking, \n",
    "                                                     training_syncpatientsmokingstatus_encoded], axis=1)\n",
    "\n",
    "# Merge encoded diagnoses into patient df and replace any null values with '0'\n",
    "training_syncpatient = training_syncpatient.merge(training_syncpatientsmokingstatus_final, on='PatientGuid', how='left')\n",
    "training_syncpatient = training_syncpatient.fillna(0)"
   ]
  },
  {
   "cell_type": "markdown",
   "id": "81fd76fb-02ed-4878-a113-513330312793",
   "metadata": {
    "jp-MarkdownHeadingCollapsed": true,
    "tags": []
   },
   "source": [
    "### IMMUNIZATIONS ('training_syncimmunization')\n",
    "##### has 8 records total, so we will exclude from our model"
   ]
  },
  {
   "cell_type": "markdown",
   "id": "16e25c88-3fd7-4e82-b091-91ce33611c16",
   "metadata": {
    "tags": []
   },
   "source": [
    "### PRIOR DIAGNOSES ('training_syncdiagnosis')\n",
    "##### Mapping by chapter of ICD Code"
   ]
  },
  {
   "cell_type": "code",
   "execution_count": 10,
   "id": "209a83a0-7b39-4ce6-a6a7-900a7bd4bff8",
   "metadata": {},
   "outputs": [
    {
     "name": "stdout",
     "output_type": "stream",
     "text": [
      "Original # of Records: 94830\n",
      "# of Records after removing duplicate diagnoses: 52992\n"
     ]
    }
   ],
   "source": [
    "# Convert ICD Codes into their chapters, so we have a better idea of what types of diagnoses we're working with\n",
    "from icdmappings import Mapper\n",
    "mapper = Mapper()\n",
    "training_syncdiagnosis['icd_chapter'] = mapper.map(training_syncdiagnosis['ICD9Code'], source='icd9', target='chapter')\n",
    "\n",
    "# Drop records in which the same patient was given the same diagnosis more than once\n",
    "training_syncdiagnosis_no_dupes = training_syncdiagnosis.drop_duplicates(subset=['PatientGuid', 'icd_chapter'])\n",
    "\n",
    "print('Original # of Records:', len(training_syncdiagnosis))\n",
    "print('# of Records after removing duplicate diagnoses:', len(training_syncdiagnosis_no_dupes))"
   ]
  },
  {
   "cell_type": "code",
   "execution_count": 11,
   "id": "5350b0d5-8eb1-4fc3-b952-667806086e07",
   "metadata": {},
   "outputs": [
    {
     "data": {
      "text/plain": [
       "3     6027\n",
       "16    5659\n",
       "7     5276\n",
       "8     5166\n",
       "13    5017\n",
       "18    4024\n",
       "5     3787\n",
       "6     3631\n",
       "9     3212\n",
       "10    3172\n",
       "12    2369\n",
       "1     2054\n",
       "17    1535\n",
       "4      940\n",
       "2      791\n",
       "14     111\n",
       "11     105\n",
       "19     105\n",
       "15       9\n",
       "Name: icd_chapter, dtype: int64"
      ]
     },
     "execution_count": 11,
     "metadata": {},
     "output_type": "execute_result"
    }
   ],
   "source": [
    "chapter_counts = training_syncdiagnosis_no_dupes['icd_chapter'].value_counts()\n",
    "chapter_counts"
   ]
  },
  {
   "cell_type": "code",
   "execution_count": 12,
   "id": "65f4e25d-e226-40e5-a3e6-9be5849bbbcd",
   "metadata": {
    "tags": []
   },
   "outputs": [
    {
     "name": "stdout",
     "output_type": "stream",
     "text": [
      "Total ICD Chapters included:      15\n",
      "Total patient diagnoses included: 52660\n"
     ]
    }
   ],
   "source": [
    "# Eliminate the records for which there are very few 'icd_chapter' codes\n",
    "n_chapters = 750\n",
    "\n",
    "selected_chapters = chapter_counts[chapter_counts >= n_chapters].index\n",
    "training_syncdiagnosis_top = training_syncdiagnosis_no_dupes[training_syncdiagnosis_no_dupes['icd_chapter'].isin(selected_chapters)]\n",
    "\n",
    "print('Total ICD Chapters included:     ', len(training_syncdiagnosis_top['icd_chapter'].unique()))\n",
    "print('Total patient diagnoses included:', len(training_syncdiagnosis_top))"
   ]
  },
  {
   "cell_type": "code",
   "execution_count": 13,
   "id": "02f33972-da38-4529-9bb6-6e26e99448b2",
   "metadata": {},
   "outputs": [],
   "source": [
    "# Drop columns we don't need\n",
    "keep_cols = ['PatientGuid', 'icd_chapter']\n",
    "training_syncdiagnosis_simple = training_syncdiagnosis_top.loc[:,keep_cols]\n",
    "\n",
    "# One-hot encode based on ICD chapter\n",
    "training_syncdiagnosis_encoded = pd.get_dummies(training_syncdiagnosis_simple, columns=['icd_chapter'])\n",
    "\n",
    "# Group records together by patient\n",
    "training_syncdiagnosis_final = training_syncdiagnosis_encoded.groupby('PatientGuid').max()\n",
    "\n",
    "# Merge encoded diagnoses into patient df\n",
    "training_syncpatient = training_syncpatient.merge(training_syncdiagnosis_final, on='PatientGuid', how='left')"
   ]
  },
  {
   "cell_type": "markdown",
   "id": "33957221-b75c-40b4-8110-354b8c851241",
   "metadata": {},
   "source": [
    "### MEDICATIONS ('training_syncmedication')\n",
    "\n",
    "##### Including only medications with a large enough n\n",
    "##### All other medications likely do not have enough data to influence our model"
   ]
  },
  {
   "cell_type": "code",
   "execution_count": 14,
   "id": "96316ba8-8cd7-4bcf-af60-4a2013984881",
   "metadata": {},
   "outputs": [
    {
     "name": "stdout",
     "output_type": "stream",
     "text": [
      "Original # of Records:                   44520\n",
      "# of Records after removing duplicates:  43890\n"
     ]
    }
   ],
   "source": [
    "# Drop records in which the same patient was prescribed the same medication more than once\n",
    "training_syncmedication_no_dupes = training_syncmedication.drop_duplicates(subset=['PatientGuid', 'NdcCode'])\n",
    "\n",
    "print('Original # of Records:                  ', len(training_syncmedication))\n",
    "print('# of Records after removing duplicates: ', len(training_syncmedication_no_dupes))"
   ]
  },
  {
   "cell_type": "code",
   "execution_count": 15,
   "id": "40fd64af-8c32-483a-a332-4cf87c1eab41",
   "metadata": {},
   "outputs": [],
   "source": [
    "# Ignoring all medications that have been prescribed less than 10 times\n",
    "# Then, taking medications which are greater than the mean of remaining medications + 2 SD's\n",
    "ndccode_counts = training_syncmedication_no_dupes['NdcCode'].value_counts()\n",
    "ndccode_counts_gt_10 = ndccode_counts[ndccode_counts > 10]\n",
    "n_medications = np.mean(ndccode_counts_gt_10) + 2 * np.std(ndccode_counts_gt_10)"
   ]
  },
  {
   "cell_type": "code",
   "execution_count": 16,
   "id": "7d0774f9-fc59-4222-96e6-7965d5390c9d",
   "metadata": {},
   "outputs": [
    {
     "data": {
      "image/png": "[encoded data removed]",
      "text/plain": [
       "<Figure size 864x432 with 1 Axes>"
      ]
     },
     "metadata": {
      "needs_background": "light"
     },
     "output_type": "display_data"
    }
   ],
   "source": [
    "# View how often medications are prescribed using a bar chart\n",
    "top_ndccodes = ndccode_counts[ndccode_counts >= n_medications]\n",
    "\n",
    "plt.figure(figsize=(12, 6))\n",
    "top_ndccodes.plot(kind='bar')\n",
    "plt.title(\"Top NdcCodes\")\n",
    "plt.xlabel(\"NdcCode\")\n",
    "plt.ylabel(\"Count\")\n",
    "plt.xticks(rotation=90)\n",
    "plt.show()"
   ]
  },
  {
   "cell_type": "code",
   "execution_count": 17,
   "id": "f757381a-18c5-49ad-b6a9-3eb9266dca55",
   "metadata": {},
   "outputs": [
    {
     "name": "stdout",
     "output_type": "stream",
     "text": [
      "Total medications included:  33\n",
      "Total patients included:     4442\n"
     ]
    }
   ],
   "source": [
    "selected_ndccodes = top_ndccodes.index\n",
    "training_syncmedication_top = training_syncmedication[training_syncmedication['NdcCode'].isin(selected_ndccodes)]\n",
    "\n",
    "print('Total medications included: ', len(training_syncmedication_top['NdcCode'].unique()))\n",
    "print('Total patients included:    ', len(training_syncmedication_top))"
   ]
  },
  {
   "cell_type": "code",
   "execution_count": 18,
   "id": "aad1dc34-782a-4931-9bcd-876abd61e043",
   "metadata": {
    "tags": []
   },
   "outputs": [],
   "source": [
    "# One-hot encode based on NDC Code\n",
    "training_syncmedication_encoded = pd.get_dummies(training_syncmedication_top, columns=['NdcCode'])\n",
    "\n",
    "# Group records together by patient\n",
    "training_syncmedication_final = training_syncmedication_encoded.groupby('PatientGuid').max()\n",
    "\n",
    "# Drop columns that aren't needed\n",
    "drop_med_cols = ['MedicationGuid', 'Schedule', 'DiagnosisGuid', 'UserGuid', 'MedicationName', 'MedicationStrength']\n",
    "training_syncmedication_final = training_syncmedication_final.drop(drop_med_cols, axis=1)\n",
    "\n",
    "# Merge encoded diagnoses into patient df\n",
    "training_syncpatient = training_syncpatient.merge(training_syncmedication_final, on='PatientGuid', how='left')"
   ]
  },
  {
   "cell_type": "markdown",
   "id": "bf82f140-3257-4107-a036-b99e1040d566",
   "metadata": {
    "tags": []
   },
   "source": [
    "### TRANSCRIPT ('training_synctranscript')\n",
    "##### Keeping 'BMI', 'SystolicBP', & 'DiastolicBP'"
   ]
  },
  {
   "cell_type": "code",
   "execution_count": 19,
   "id": "7475cd9d-7fe7-483c-8014-76229e09a70d",
   "metadata": {},
   "outputs": [
    {
     "data": {
      "text/plain": [
       "131031"
      ]
     },
     "execution_count": 19,
     "metadata": {},
     "output_type": "execute_result"
    }
   ],
   "source": [
    "len(training_synctranscript)"
   ]
  },
  {
   "cell_type": "code",
   "execution_count": 20,
   "id": "5214724c-ad57-4d0e-bd58-ca2d67fa8390",
   "metadata": {},
   "outputs": [
    {
     "data": {
      "text/plain": [
       "TranscriptGuid        0.000000\n",
       "PatientGuid           0.000000\n",
       "VisitYear             0.000000\n",
       "Height                0.541727\n",
       "Weight                0.000000\n",
       "BMI                   0.000000\n",
       "SystolicBP            0.346872\n",
       "DiastolicBP           0.346872\n",
       "RespiratoryRate       0.609314\n",
       "HeartRate             1.000000\n",
       "Temperature           0.618151\n",
       "PhysicianSpecialty    0.001381\n",
       "UserGuid              0.000000\n",
       "dtype: float64"
      ]
     },
     "execution_count": 20,
     "metadata": {},
     "output_type": "execute_result"
    }
   ],
   "source": [
    "# View how many values are missing\n",
    "training_synctranscript.isna().sum() / training_synctranscript.shape[0]"
   ]
  },
  {
   "cell_type": "code",
   "execution_count": 21,
   "id": "1e27adc2-7132-4263-a822-519783a74a72",
   "metadata": {},
   "outputs": [],
   "source": [
    "pd.set_option('display.float_format', '{:,.2f}'.format)\n",
    "\n",
    "# Drop columns we don't need\n",
    "keep_cols_2 = ['PatientGuid', 'BMI', 'SystolicBP', 'DiastolicBP']\n",
    "training_synctranscript_simple = training_synctranscript.loc[:,keep_cols_2]\n",
    "\n",
    "# Group records together by patient\n",
    "training_synctranscript_final = training_synctranscript_simple.groupby('PatientGuid').mean()\n",
    "\n",
    "# Drop any records with 'NaN' values\n",
    "training_synctranscript_final = training_synctranscript_final.dropna()\n",
    "\n",
    "# Merge encoded diagnoses into patient df\n",
    "training_syncpatient = training_syncpatient.merge(training_synctranscript_final, on='PatientGuid', how='left')"
   ]
  },
  {
   "cell_type": "markdown",
   "id": "905b7265-3ec0-448e-b3ab-2451b488db41",
   "metadata": {
    "tags": []
   },
   "source": [
    "### LAB OBSERVATIONS ('training_synclabobservation')\n",
    "##### Flag for patients with at least one abnormal test result"
   ]
  },
  {
   "cell_type": "code",
   "execution_count": 22,
   "id": "e95ea573-7d49-4e47-badc-7ff4d0bded39",
   "metadata": {},
   "outputs": [
    {
     "data": {
      "text/plain": [
       "875"
      ]
     },
     "execution_count": 22,
     "metadata": {},
     "output_type": "execute_result"
    }
   ],
   "source": [
    "len(training_synclabresult['PatientGuid'].unique())"
   ]
  },
  {
   "cell_type": "code",
   "execution_count": 23,
   "id": "a5295322-7471-42cf-8867-950eed8b8589",
   "metadata": {},
   "outputs": [
    {
     "data": {
      "text/plain": [
       "0    6543\n",
       "1     382\n",
       "Name: abnormal_tests, dtype: int64"
      ]
     },
     "execution_count": 23,
     "metadata": {},
     "output_type": "execute_result"
    }
   ],
   "source": [
    "# Merge 'PatientGuid' over to 'training_synclabpanel' df\n",
    "training_synclabpanel_new = training_synclabpanel.merge(training_synclabresult[['LabResultGuid','PatientGuid']], \n",
    "                                                        on='LabResultGuid', how='left')\n",
    "\n",
    "# Merge 'patient_exists' over to 'training_synclabobservation_new' df\n",
    "training_synclabobservation_new = training_synclabobservation.merge(training_synclabpanel_new[['LabPanelGuid','PatientGuid']], \n",
    "                                                      on='LabPanelGuid', how='left')\n",
    "\n",
    "# Keep only records where the panel returned an abnormal result\n",
    "training_synclabobservation_new = training_synclabobservation_new[training_synclabobservation_new['IsAbnormalValue'] != 0]\n",
    "\n",
    "# Merge into 'training_syncpatient' df\n",
    "training_syncpatient['abnormal_tests'] = training_syncpatient['PatientGuid'].isin(training_synclabobservation_new['PatientGuid']).astype(int)\n",
    "\n",
    "training_syncpatient['abnormal_tests'].value_counts()"
   ]
  },
  {
   "cell_type": "markdown",
   "id": "2ab8d064-4cb7-4540-8a27-7f6e97798042",
   "metadata": {},
   "source": [
    "### 'training_syncpatient' IS NOW READY TO BE MODELED"
   ]
  },
  {
   "cell_type": "code",
   "execution_count": 24,
   "id": "ba9cdcb4-9543-4458-9eda-520d2e42b0df",
   "metadata": {},
   "outputs": [
    {
     "data": {
      "text/html": [
       "<div>\n",
       "<style scoped>\n",
       "    .dataframe tbody tr th:only-of-type {\n",
       "        vertical-align: middle;\n",
       "    }\n",
       "\n",
       "    .dataframe tbody tr th {\n",
       "        vertical-align: top;\n",
       "    }\n",
       "\n",
       "    .dataframe thead th {\n",
       "        text-align: right;\n",
       "    }\n",
       "</style>\n",
       "<table border=\"1\" class=\"dataframe\">\n",
       "  <thead>\n",
       "    <tr style=\"text-align: right;\">\n",
       "      <th></th>\n",
       "      <th>DMIndicator</th>\n",
       "      <th>Gender</th>\n",
       "      <th>YearOfBirth</th>\n",
       "      <th>any_allergy</th>\n",
       "      <th>any_condition</th>\n",
       "      <th>non_smoker</th>\n",
       "      <th>light_smoker</th>\n",
       "      <th>heavy_smoker</th>\n",
       "      <th>icd_chapter_1</th>\n",
       "      <th>icd_chapter_10</th>\n",
       "      <th>...</th>\n",
       "      <th>NdcCode_54868371800</th>\n",
       "      <th>NdcCode_58016653301</th>\n",
       "      <th>NdcCode_59310057920</th>\n",
       "      <th>NdcCode_64248011710</th>\n",
       "      <th>NdcCode_68115008220</th>\n",
       "      <th>NdcCode_68115099020</th>\n",
       "      <th>BMI</th>\n",
       "      <th>SystolicBP</th>\n",
       "      <th>DiastolicBP</th>\n",
       "      <th>abnormal_tests</th>\n",
       "    </tr>\n",
       "  </thead>\n",
       "  <tbody>\n",
       "    <tr>\n",
       "      <th>count</th>\n",
       "      <td>6,925.00</td>\n",
       "      <td>6,925.00</td>\n",
       "      <td>6,925.00</td>\n",
       "      <td>6,925.00</td>\n",
       "      <td>6,925.00</td>\n",
       "      <td>6,925.00</td>\n",
       "      <td>6,925.00</td>\n",
       "      <td>6,925.00</td>\n",
       "      <td>6,923.00</td>\n",
       "      <td>6,923.00</td>\n",
       "      <td>...</td>\n",
       "      <td>2,136.00</td>\n",
       "      <td>2,136.00</td>\n",
       "      <td>2,136.00</td>\n",
       "      <td>2,136.00</td>\n",
       "      <td>2,136.00</td>\n",
       "      <td>2,136.00</td>\n",
       "      <td>6,924.00</td>\n",
       "      <td>6,924.00</td>\n",
       "      <td>6,924.00</td>\n",
       "      <td>6,925.00</td>\n",
       "    </tr>\n",
       "    <tr>\n",
       "      <th>mean</th>\n",
       "      <td>0.19</td>\n",
       "      <td>0.43</td>\n",
       "      <td>1,957.41</td>\n",
       "      <td>0.19</td>\n",
       "      <td>0.29</td>\n",
       "      <td>0.32</td>\n",
       "      <td>0.14</td>\n",
       "      <td>0.01</td>\n",
       "      <td>0.20</td>\n",
       "      <td>0.32</td>\n",
       "      <td>...</td>\n",
       "      <td>0.04</td>\n",
       "      <td>0.04</td>\n",
       "      <td>0.04</td>\n",
       "      <td>0.05</td>\n",
       "      <td>0.03</td>\n",
       "      <td>0.04</td>\n",
       "      <td>19.51</td>\n",
       "      <td>126.14</td>\n",
       "      <td>76.81</td>\n",
       "      <td>0.06</td>\n",
       "    </tr>\n",
       "    <tr>\n",
       "      <th>std</th>\n",
       "      <td>0.39</td>\n",
       "      <td>0.50</td>\n",
       "      <td>17.45</td>\n",
       "      <td>0.39</td>\n",
       "      <td>0.46</td>\n",
       "      <td>0.47</td>\n",
       "      <td>0.35</td>\n",
       "      <td>0.10</td>\n",
       "      <td>0.40</td>\n",
       "      <td>0.47</td>\n",
       "      <td>...</td>\n",
       "      <td>0.19</td>\n",
       "      <td>0.20</td>\n",
       "      <td>0.20</td>\n",
       "      <td>0.21</td>\n",
       "      <td>0.17</td>\n",
       "      <td>0.19</td>\n",
       "      <td>60.24</td>\n",
       "      <td>13.62</td>\n",
       "      <td>8.22</td>\n",
       "      <td>0.23</td>\n",
       "    </tr>\n",
       "    <tr>\n",
       "      <th>min</th>\n",
       "      <td>0.00</td>\n",
       "      <td>0.00</td>\n",
       "      <td>1,922.00</td>\n",
       "      <td>0.00</td>\n",
       "      <td>0.00</td>\n",
       "      <td>0.00</td>\n",
       "      <td>0.00</td>\n",
       "      <td>0.00</td>\n",
       "      <td>0.00</td>\n",
       "      <td>0.00</td>\n",
       "      <td>...</td>\n",
       "      <td>0.00</td>\n",
       "      <td>0.00</td>\n",
       "      <td>0.00</td>\n",
       "      <td>0.00</td>\n",
       "      <td>0.00</td>\n",
       "      <td>0.00</td>\n",
       "      <td>0.12</td>\n",
       "      <td>77.00</td>\n",
       "      <td>40.00</td>\n",
       "      <td>0.00</td>\n",
       "    </tr>\n",
       "    <tr>\n",
       "      <th>25%</th>\n",
       "      <td>0.00</td>\n",
       "      <td>0.00</td>\n",
       "      <td>1,944.00</td>\n",
       "      <td>0.00</td>\n",
       "      <td>0.00</td>\n",
       "      <td>0.00</td>\n",
       "      <td>0.00</td>\n",
       "      <td>0.00</td>\n",
       "      <td>0.00</td>\n",
       "      <td>0.00</td>\n",
       "      <td>...</td>\n",
       "      <td>0.00</td>\n",
       "      <td>0.00</td>\n",
       "      <td>0.00</td>\n",
       "      <td>0.00</td>\n",
       "      <td>0.00</td>\n",
       "      <td>0.00</td>\n",
       "      <td>7.87</td>\n",
       "      <td>117.00</td>\n",
       "      <td>71.50</td>\n",
       "      <td>0.00</td>\n",
       "    </tr>\n",
       "    <tr>\n",
       "      <th>50%</th>\n",
       "      <td>0.00</td>\n",
       "      <td>0.00</td>\n",
       "      <td>1,957.00</td>\n",
       "      <td>0.00</td>\n",
       "      <td>0.00</td>\n",
       "      <td>0.00</td>\n",
       "      <td>0.00</td>\n",
       "      <td>0.00</td>\n",
       "      <td>0.00</td>\n",
       "      <td>0.00</td>\n",
       "      <td>...</td>\n",
       "      <td>0.00</td>\n",
       "      <td>0.00</td>\n",
       "      <td>0.00</td>\n",
       "      <td>0.00</td>\n",
       "      <td>0.00</td>\n",
       "      <td>0.00</td>\n",
       "      <td>14.75</td>\n",
       "      <td>125.40</td>\n",
       "      <td>76.75</td>\n",
       "      <td>0.00</td>\n",
       "    </tr>\n",
       "    <tr>\n",
       "      <th>75%</th>\n",
       "      <td>0.00</td>\n",
       "      <td>1.00</td>\n",
       "      <td>1,970.00</td>\n",
       "      <td>0.00</td>\n",
       "      <td>1.00</td>\n",
       "      <td>1.00</td>\n",
       "      <td>0.00</td>\n",
       "      <td>0.00</td>\n",
       "      <td>0.00</td>\n",
       "      <td>1.00</td>\n",
       "      <td>...</td>\n",
       "      <td>0.00</td>\n",
       "      <td>0.00</td>\n",
       "      <td>0.00</td>\n",
       "      <td>0.00</td>\n",
       "      <td>0.00</td>\n",
       "      <td>0.00</td>\n",
       "      <td>23.03</td>\n",
       "      <td>134.18</td>\n",
       "      <td>81.89</td>\n",
       "      <td>0.00</td>\n",
       "    </tr>\n",
       "    <tr>\n",
       "      <th>max</th>\n",
       "      <td>1.00</td>\n",
       "      <td>1.00</td>\n",
       "      <td>1,994.00</td>\n",
       "      <td>1.00</td>\n",
       "      <td>1.00</td>\n",
       "      <td>1.00</td>\n",
       "      <td>1.00</td>\n",
       "      <td>1.00</td>\n",
       "      <td>1.00</td>\n",
       "      <td>1.00</td>\n",
       "      <td>...</td>\n",
       "      <td>1.00</td>\n",
       "      <td>1.00</td>\n",
       "      <td>1.00</td>\n",
       "      <td>1.00</td>\n",
       "      <td>1.00</td>\n",
       "      <td>1.00</td>\n",
       "      <td>2,352.89</td>\n",
       "      <td>201.33</td>\n",
       "      <td>132.21</td>\n",
       "      <td>1.00</td>\n",
       "    </tr>\n",
       "  </tbody>\n",
       "</table>\n",
       "<p>8 rows × 60 columns</p>\n",
       "</div>"
      ],
      "text/plain": [
       "       DMIndicator   Gender  YearOfBirth  any_allergy  any_condition  \\\n",
       "count     6,925.00 6,925.00     6,925.00     6,925.00       6,925.00   \n",
       "mean          0.19     0.43     1,957.41         0.19           0.29   \n",
       "std           0.39     0.50        17.45         0.39           0.46   \n",
       "min           0.00     0.00     1,922.00         0.00           0.00   \n",
       "25%           0.00     0.00     1,944.00         0.00           0.00   \n",
       "50%           0.00     0.00     1,957.00         0.00           0.00   \n",
       "75%           0.00     1.00     1,970.00         0.00           1.00   \n",
       "max           1.00     1.00     1,994.00         1.00           1.00   \n",
       "\n",
       "       non_smoker  light_smoker  heavy_smoker  icd_chapter_1  icd_chapter_10  \\\n",
       "count    6,925.00      6,925.00      6,925.00       6,923.00        6,923.00   \n",
       "mean         0.32          0.14          0.01           0.20            0.32   \n",
       "std          0.47          0.35          0.10           0.40            0.47   \n",
       "min          0.00          0.00          0.00           0.00            0.00   \n",
       "25%          0.00          0.00          0.00           0.00            0.00   \n",
       "50%          0.00          0.00          0.00           0.00            0.00   \n",
       "75%          1.00          0.00          0.00           0.00            1.00   \n",
       "max          1.00          1.00          1.00           1.00            1.00   \n",
       "\n",
       "       ...  NdcCode_54868371800  NdcCode_58016653301  NdcCode_59310057920  \\\n",
       "count  ...             2,136.00             2,136.00             2,136.00   \n",
       "mean   ...                 0.04                 0.04                 0.04   \n",
       "std    ...                 0.19                 0.20                 0.20   \n",
       "min    ...                 0.00                 0.00                 0.00   \n",
       "25%    ...                 0.00                 0.00                 0.00   \n",
       "50%    ...                 0.00                 0.00                 0.00   \n",
       "75%    ...                 0.00                 0.00                 0.00   \n",
       "max    ...                 1.00                 1.00                 1.00   \n",
       "\n",
       "       NdcCode_64248011710  NdcCode_68115008220  NdcCode_68115099020      BMI  \\\n",
       "count             2,136.00             2,136.00             2,136.00 6,924.00   \n",
       "mean                  0.05                 0.03                 0.04    19.51   \n",
       "std                   0.21                 0.17                 0.19    60.24   \n",
       "min                   0.00                 0.00                 0.00     0.12   \n",
       "25%                   0.00                 0.00                 0.00     7.87   \n",
       "50%                   0.00                 0.00                 0.00    14.75   \n",
       "75%                   0.00                 0.00                 0.00    23.03   \n",
       "max                   1.00                 1.00                 1.00 2,352.89   \n",
       "\n",
       "       SystolicBP  DiastolicBP  abnormal_tests  \n",
       "count    6,924.00     6,924.00        6,925.00  \n",
       "mean       126.14        76.81            0.06  \n",
       "std         13.62         8.22            0.23  \n",
       "min         77.00        40.00            0.00  \n",
       "25%        117.00        71.50            0.00  \n",
       "50%        125.40        76.75            0.00  \n",
       "75%        134.18        81.89            0.00  \n",
       "max        201.33       132.21            1.00  \n",
       "\n",
       "[8 rows x 60 columns]"
      ]
     },
     "execution_count": 24,
     "metadata": {},
     "output_type": "execute_result"
    }
   ],
   "source": [
    "pd.set_option('display.float_format', '{:,.2f}'.format)\n",
    "training_syncpatient.describe()"
   ]
  },
  {
   "cell_type": "code",
   "execution_count": 25,
   "id": "0b61f332-7485-474d-afdb-8584465da3f0",
   "metadata": {},
   "outputs": [
    {
     "data": {
      "text/plain": [
       "60"
      ]
     },
     "execution_count": 25,
     "metadata": {},
     "output_type": "execute_result"
    }
   ],
   "source": [
    "training_syncpatient = training_syncpatient.drop('PatientGuid', axis=1)\n",
    "training_syncpatient = training_syncpatient.fillna(0)\n",
    "len(training_syncpatient.columns)"
   ]
  },
  {
   "cell_type": "markdown",
   "id": "c179bc51-d9a3-42f6-bf3e-89817b03b628",
   "metadata": {},
   "source": [
    "## MODELING"
   ]
  },
  {
   "cell_type": "markdown",
   "id": "c0b528b1-fa2a-495e-895d-d55710701005",
   "metadata": {
    "tags": []
   },
   "source": [
    "### LOGISTIC REGRESSION"
   ]
  },
  {
   "cell_type": "code",
   "execution_count": 26,
   "id": "a2de1bef-ab95-43f7-a935-13caab2b5ab0",
   "metadata": {},
   "outputs": [
    {
     "data": {
      "text/plain": [
       "Index(['DMIndicator', 'Gender', 'YearOfBirth', 'any_allergy', 'any_condition',\n",
       "       'non_smoker', 'light_smoker', 'heavy_smoker', 'icd_chapter_1',\n",
       "       'icd_chapter_10', 'icd_chapter_12', 'icd_chapter_13', 'icd_chapter_16',\n",
       "       'icd_chapter_17', 'icd_chapter_18', 'icd_chapter_2', 'icd_chapter_3',\n",
       "       'icd_chapter_4', 'icd_chapter_5', 'icd_chapter_6', 'icd_chapter_7',\n",
       "       'icd_chapter_8', 'icd_chapter_9', 'NdcCode_4011704', 'NdcCode_6011728',\n",
       "       'NdcCode_6074928', 'NdcCode_6093128', 'NdcCode_9005604',\n",
       "       'NdcCode_24542110', 'NdcCode_24542131', 'NdcCode_26851348',\n",
       "       'NdcCode_29608612', 'NdcCode_37200101', 'NdcCode_69154041',\n",
       "       'NdcCode_69305034', 'NdcCode_69306075', 'NdcCode_71015523',\n",
       "       'NdcCode_85128801', 'NdcCode_93111401', 'NdcCode_93715593',\n",
       "       'NdcCode_115367001', 'NdcCode_186504031', 'NdcCode_223197101',\n",
       "       'NdcCode_247039720', 'NdcCode_247062320', 'NdcCode_406206703',\n",
       "       'NdcCode_490006018', 'NdcCode_781223331', 'NdcCode_50474091001',\n",
       "       'NdcCode_54868077601', 'NdcCode_54868371800', 'NdcCode_58016653301',\n",
       "       'NdcCode_59310057920', 'NdcCode_64248011710', 'NdcCode_68115008220',\n",
       "       'NdcCode_68115099020', 'BMI', 'SystolicBP', 'DiastolicBP',\n",
       "       'abnormal_tests'],\n",
       "      dtype='object')"
      ]
     },
     "execution_count": 26,
     "metadata": {},
     "output_type": "execute_result"
    }
   ],
   "source": [
    "training_syncpatient.columns"
   ]
  },
  {
   "cell_type": "code",
   "execution_count": 27,
   "id": "c75fc829-7618-4401-a8b0-5ec2e7bff48b",
   "metadata": {
    "tags": []
   },
   "outputs": [
    {
     "name": "stdout",
     "output_type": "stream",
     "text": [
      "Brier Training Score:   0.1301\n",
      "Brier Test Score:       0.144\n"
     ]
    }
   ],
   "source": [
    "# Split into Train & Test (75/25)\n",
    "train, test = train_test_split(training_syncpatient, test_size = 0.25, random_state = 42)\n",
    "\n",
    "# Separate dependent variable ('DMIndicator') from predictors\n",
    "y_train = train['DMIndicator']\n",
    "X_train = train.drop('DMIndicator', axis=1)\n",
    "\n",
    "y_test = test['DMIndicator']\n",
    "X_test = test.drop('DMIndicator', axis=1)\n",
    "\n",
    "# Create a StandardScaler instance\n",
    "scaler = StandardScaler()\n",
    "\n",
    "# Define which columns to scale\n",
    "columns_to_scale = ['BMI', 'SystolicBP', 'DiastolicBP', 'YearOfBirth']\n",
    "\n",
    "X_train_scaled = X_train.copy()  # Create a copy of X_train\n",
    "X_test_scaled = X_test.copy()  # Create a copy of X_test\n",
    "\n",
    "# Fit and transform the non-binary columns for the training set\n",
    "X_train_scaled[columns_to_scale] = scaler.fit_transform(X_train_scaled[columns_to_scale])\n",
    "\n",
    "# Transform the test set in the same way\n",
    "X_test_scaled[columns_to_scale] = scaler.transform(X_test_scaled[columns_to_scale])\n",
    "\n",
    "# Create Logistic Regression model\n",
    "lr_model = LogisticRegression(max_iter=100000)\n",
    "\n",
    "# Select the best features for the model\n",
    "num_features = 40\n",
    "\n",
    "rfe = RFE(estimator = lr_model, n_features_to_select=num_features, step=1)\n",
    "rfe.fit(X_train_scaled, y_train)\n",
    "\n",
    "# Use only the selected features for both training and test data\n",
    "selected_features = X_train_scaled.columns[rfe.support_]\n",
    "X_train_optimal = X_train_scaled[selected_features]\n",
    "X_test_optimal = X_test_scaled[selected_features]\n",
    "\n",
    "# Define the hyperparameter grid for GridSearchCV\n",
    "param_grid = {'penalty': ['l2'], 'C': [0.01, 0.1, 1.0]}\n",
    "\n",
    "# Run GridSearchCV to find the optimal parameter values \n",
    "grid_search = GridSearchCV(lr_model, param_grid=param_grid, cv=5, n_jobs=-1)\n",
    "grid_search.fit(X_train_optimal, y_train)\n",
    "\n",
    "# Create a new LR model, only using the optimal parameters\n",
    "lr_model = grid_search.best_estimator_\n",
    "lr_model.fit(X_train_optimal, y_train)\n",
    "\n",
    "# Generate predictions on the train & test sets\n",
    "y_train_pred = lr_model.predict_proba(X_train_optimal)\n",
    "y_test_pred = lr_model.predict_proba(X_test_optimal)\n",
    "\n",
    "# Calculate and print Brier Score\n",
    "lr_brier_score_train = brier_score_loss(y_train, y_train_pred[:,1])\n",
    "lr_brier_score_test = brier_score_loss(y_test, y_test_pred[:,1])\n",
    "\n",
    "print('Brier Training Score:  ', round(lr_brier_score_train,4))\n",
    "print('Brier Test Score:      ', round(lr_brier_score_test,4))"
   ]
  },
  {
   "cell_type": "markdown",
   "id": "3035bc7a-0a8f-4ba1-918b-6a843d716bb3",
   "metadata": {},
   "source": [
    "### Support Vector Machine"
   ]
  },
  {
   "cell_type": "code",
   "execution_count": 28,
   "id": "7a945524-bfd6-4f9c-9523-a9dee796d3e1",
   "metadata": {
    "tags": []
   },
   "outputs": [
    {
     "name": "stdout",
     "output_type": "stream",
     "text": [
      "Brier Training Score: 0.1141\n",
      "Brier Test Score:     0.1546\n"
     ]
    }
   ],
   "source": [
    "# Create SVC model\n",
    "svc_model = SVC(probability=True)\n",
    "svc_model.fit(X_train_optimal, y_train)\n",
    "\n",
    "# Generate predictions on the train & test sets\n",
    "svm_train_pred = svc_model.predict_proba(X_train_optimal)\n",
    "svm_test_pred = svc_model.predict_proba(X_test_optimal)\n",
    "\n",
    "# Calculate and print Brier Score\n",
    "svm_brier_score_train = brier_score_loss(y_train, svm_train_pred[:,1])\n",
    "svm_brier_score_test = brier_score_loss(y_test, svm_test_pred[:,1])\n",
    "\n",
    "print('Brier Training Score:', round(svm_brier_score_train,4))\n",
    "print('Brier Test Score:    ', round(svm_brier_score_test,4))"
   ]
  },
  {
   "cell_type": "markdown",
   "id": "41d53ac6-46fa-47ab-b58f-6cc0b9e746e4",
   "metadata": {},
   "source": [
    "### ENSEMBLE MODEL"
   ]
  },
  {
   "cell_type": "code",
   "execution_count": 29,
   "id": "deba8ca9-afb5-4287-85d5-408a8d0f9b86",
   "metadata": {},
   "outputs": [
    {
     "name": "stdout",
     "output_type": "stream",
     "text": [
      "Brier Training Score: 0.1188\n",
      "Brier Test Score:     0.1463\n"
     ]
    }
   ],
   "source": [
    "# Generate predictions on the train & test sets\n",
    "ensemble_train_pred = (y_train_pred + svm_train_pred) / 2\n",
    "ensemble_test_pred = (y_test_pred + svm_test_pred) / 2\n",
    "\n",
    "# Calculate and print Brier Score\n",
    "ensemble_brier_score_train = brier_score_loss(y_train, ensemble_train_pred[:,1])\n",
    "ensemble_brier_score_test = brier_score_loss(y_test, ensemble_test_pred[:,1])\n",
    "\n",
    "print('Brier Training Score:', round(ensemble_brier_score_train,4))\n",
    "print('Brier Test Score:    ', round(ensemble_brier_score_test,4))"
   ]
  },
  {
   "cell_type": "markdown",
   "id": "a624f547-313c-4680-8d42-609e85c22876",
   "metadata": {},
   "source": [
    "### MODEL COMPARISON"
   ]
  },
  {
   "cell_type": "code",
   "execution_count": 30,
   "id": "e83b7c21-20a3-4dc2-b93a-510851eb711c",
   "metadata": {},
   "outputs": [
    {
     "name": "stdout",
     "output_type": "stream",
     "text": [
      "Model            Brier Score (Train)  Brier Score (Test)\n",
      "--------------------------------------------------------\n",
      "LR model:        0.1301               0.144             \n",
      "SVM model:       0.1141               0.1546            \n",
      "Ensemble model:  0.1188               0.1463            \n"
     ]
    }
   ],
   "source": [
    "data = [\n",
    "    [\"LR model:\", round(lr_brier_score_train, 4), round(lr_brier_score_test, 4)],\n",
    "    [\"SVM model:\", round(svm_brier_score_train, 4), round(svm_brier_score_test, 4)],\n",
    "    [\"Ensemble model:\", round(ensemble_brier_score_train, 4), round(ensemble_brier_score_test, 4)],\n",
    "]\n",
    "\n",
    "headers = [\"Model\", \"Brier Score (Train)\", \"Brier Score (Test)\"]\n",
    "\n",
    "# Calculate the maximum width for each column to format the table\n",
    "max_col_widths = [max(len(str(item)) for item in col) for col in zip(*data, headers)]\n",
    "\n",
    "# Create the table header\n",
    "table_header = \"  \".join(f\"{header:<{width}}\" for header, width in zip(headers, max_col_widths))\n",
    "table_divider = \"-\" * len(table_header)\n",
    "\n",
    "# Create the table rows\n",
    "table_rows = [table_header, table_divider]  # Header and divider lines\n",
    "table_rows.extend(\"  \".join(f\"{item:<{width}}\" for item, width in zip(row, max_col_widths)) for row in data)\n",
    "\n",
    "# Print the table\n",
    "for row in table_rows:\n",
    "    print(row)"
   ]
  },
  {
   "cell_type": "markdown",
   "id": "4467949d-ea51-4876-b878-faa75156aaf6",
   "metadata": {
    "tags": []
   },
   "source": [
    "### Based on the training results, we will use the Logistic Regression model, due to its superior performance on the test set."
   ]
  },
  {
   "cell_type": "code",
   "execution_count": 31,
   "id": "8bc76599-8149-4564-ace8-6ca9974d5f18",
   "metadata": {},
   "outputs": [],
   "source": [
    "# Drop columns that aren't needed\n",
    "test_syncpatient = test_syncpatient.drop('State', axis=1)\n",
    "test_syncpatient = test_syncpatient.drop('PracticeGuid', axis=1)\n",
    "\n",
    "# Encode gender\n",
    "test_syncpatient['Gender'] = test_syncpatient['Gender'].map({'M': 1, 'F': 0})\n",
    "\n",
    "# Create a dummy variable in patient df based on whether the patient has at least one allergy\n",
    "test_syncpatient['any_allergy'] = test_syncpatient['PatientGuid'].isin(training_syncallergy['PatientGuid']).astype(int)\n",
    "\n",
    "# Create a dummy variable in patient df based on whether the patient has at least one condition\n",
    "test_syncpatient['any_condition'] = test_syncpatient['PatientGuid'].isin(training_syncpatientcondition['PatientGuid']).astype(int)\n",
    "\n",
    "# Merge columns related to patient smoking status\n",
    "test_syncpatient = test_syncpatient.merge(training_syncpatientsmokingstatus_final, on='PatientGuid', how='left')\n",
    "test_syncpatient = test_syncpatient.fillna(0)\n",
    "\n",
    "# Merge encoded diagnoses into patient df\n",
    "test_syncpatient = test_syncpatient.merge(training_syncdiagnosis_final, on='PatientGuid', how='left')\n",
    "\n",
    "# Merge encoded diagnoses into patient df\n",
    "test_syncpatient = test_syncpatient.merge(training_syncmedication_final, on='PatientGuid', how='left')\n",
    "\n",
    "# Merge encoded diagnoses into patient df\n",
    "test_syncpatient = test_syncpatient.merge(training_synctranscript_final, on='PatientGuid', how='left')\n",
    "\n",
    "# Merge into 'test_syncpatient' df & clean df\n",
    "test_syncpatient['abnormal_tests'] = test_syncpatient['PatientGuid'].isin(training_synclabobservation_new['PatientGuid']).astype(int)\n",
    "test_syncpatient = test_syncpatient.fillna(0)\n",
    "final_pred = pd.DataFrame({'PatientGud': test_syncpatient['PatientGuid']})\n",
    "test_syncpatient = test_syncpatient.drop('PatientGuid', axis=1)"
   ]
  },
  {
   "cell_type": "code",
   "execution_count": 32,
   "id": "f4598055-697e-4d01-bb28-fd6efab206f4",
   "metadata": {},
   "outputs": [],
   "source": [
    "# Scale test data and run it through chosen (Logistic Regression) model\n",
    "X_model = test_syncpatient\n",
    "X_model_scaled = X_model.copy()\n",
    "X_model_scaled[columns_to_scale] = scaler.transform(X_model_scaled[columns_to_scale])\n",
    "X_model_optimal = X_model_scaled[selected_features]\n",
    "lr_model_pred = lr_model.predict_proba(X_model_optimal)\n",
    "\n",
    "# Convert final predictions on test set to CSV\n",
    "final_pred['DMIndicatorForecast'] = lr_model_pred[:,1]\n",
    "final_pred.to_csv('test_SyncPatientForecast.csv', index=False)"
   ]
  }
 ],
 "metadata": {
  "kernelspec": {
   "display_name": "Python 3 (ipykernel)",
   "language": "python",
   "name": "python3"
  },
  "language_info": {
   "codemirror_mode": {
    "name": "ipython",
    "version": 3
   },
   "file_extension": ".py",
   "mimetype": "text/x-python",
   "name": "python",
   "nbconvert_exporter": "python",
   "pygments_lexer": "ipython3",
   "version": "3.9.12"
  }
 },
 "nbformat": 4,
 "nbformat_minor": 5
}
